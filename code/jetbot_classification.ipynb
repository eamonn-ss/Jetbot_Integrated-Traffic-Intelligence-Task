{
 "cells": [
  {
   "cell_type": "code",
   "execution_count": 1,
   "id": "26a624f2-b888-4046-b85f-a86b165dd961",
   "metadata": {
    "tags": []
   },
   "outputs": [],
   "source": [
    "import torch\n",
    "import torch.optim as optim\n",
    "import torch.nn as nn\n",
    "import torch.nn.functional as F\n",
    "import torchvision\n",
    "import torchvision.datasets as datasets\n",
    "import torchvision.models as models\n",
    "import torchvision.transforms as transforms\n",
    "import os"
   ]
  },
  {
   "cell_type": "code",
   "execution_count": 2,
   "id": "0cc12408-4f57-4c7a-848e-e182a60d1b9e",
   "metadata": {
    "tags": []
   },
   "outputs": [],
   "source": [
    "dataset = datasets.ImageFolder(\n",
    "    'dataset',\n",
    "    transforms.Compose([\n",
    "        transforms.ColorJitter(0.1, 0.1, 0.1, 0.1),\n",
    "        transforms.Resize((224, 224)),\n",
    "        transforms.ToTensor(),\n",
    "        transforms.Normalize([0.485, 0.456, 0.406], [0.229, 0.224, 0.225])\n",
    "    ])\n",
    ")"
   ]
  },
  {
   "cell_type": "markdown",
   "id": "b9970972",
   "metadata": {},
   "source": [
    "- !pip install scikit-learn"
   ]
  },
  {
   "cell_type": "code",
   "execution_count": 3,
   "id": "68fad3d5-8024-45e1-bc85-f6d636c0ff16",
   "metadata": {
    "tags": []
   },
   "outputs": [],
   "source": [
    "from sklearn.model_selection import KFold\n",
    "import torch.utils.data\n",
    "\n",
    "k = 12\n",
    "kf = KFold(n_splits=k, shuffle=True)\n",
    "\n",
    "train_loaders = []\n",
    "test_loaders = []\n",
    "\n",
    "\n",
    "for train_indices, test_indices in kf.split(dataset):\n",
    "    train_sampler = torch.utils.data.SubsetRandomSampler(train_indices)\n",
    "    test_sampler = torch.utils.data.SubsetRandomSampler(test_indices)\n",
    "    \n",
    "    train_loader = torch.utils.data.DataLoader(\n",
    "        dataset,\n",
    "        batch_size=8,\n",
    "        sampler=train_sampler,\n",
    "        num_workers=0\n",
    "    )\n",
    "    \n",
    "    test_loader = torch.utils.data.DataLoader(\n",
    "        dataset,\n",
    "        batch_size=8,\n",
    "        sampler=test_sampler,\n",
    "        num_workers=0\n",
    "    )\n",
    "    \n",
    "    train_loaders.append(train_loader)\n",
    "    test_loaders.append(test_loader)\n"
   ]
  },
  {
   "cell_type": "code",
   "execution_count": 4,
   "id": "39b70ca4-4291-4bc7-b5bf-84f5f02ffa5e",
   "metadata": {
    "tags": []
   },
   "outputs": [],
   "source": [
    "#hold-out\n",
    "test_percent = 0.2\n",
    "num_test = int(test_percent * len(dataset))\n",
    "train_dataset, test_dataset = torch.utils.data.random_split(dataset, [len(dataset) - num_test, num_test])\n",
    "\n",
    "train_loader = torch.utils.data.DataLoader(\n",
    "    train_dataset,\n",
    "    batch_size=8,\n",
    "    shuffle=True,\n",
    "    num_workers=0\n",
    ")\n",
    "\n",
    "test_loader = torch.utils.data.DataLoader(\n",
    "    test_dataset,\n",
    "    batch_size=8,\n",
    "    shuffle=True,\n",
    "    num_workers=0\n",
    ")"
   ]
  },
  {
   "cell_type": "code",
   "execution_count": null,
   "id": "e7fe40b4-4713-4ded-a62d-f44525aa00fd",
   "metadata": {},
   "outputs": [],
   "source": [
    "from rdnet18_ca import rdnet18_ca\n",
    "\n",
    "model_path = \"resnet18-5c106cde.pth\"\n",
    "pretrained_dict = torch.load(model_path)\n",
    "\n",
    "model = rdnet18_ca()\n",
    "\n",
    "model_dict = model.state_dict()\n",
    "\n",
    "pretrained_dict = {k: v for k, v in pretrained_dict.items() if k in model_dict}\n",
    "model_dict.update(pretrained_dict)\n",
    "model.load_state_dict(model_dict)\n"
   ]
  },
  {
   "cell_type": "code",
   "execution_count": 6,
   "id": "673f8767-a400-4b64-9567-6af903506c09",
   "metadata": {
    "tags": []
   },
   "outputs": [],
   "source": [
    "model.fc = torch.nn.Linear(512, 2)\n",
    "device = torch.device(\"cuda\" if torch.cuda.is_available() else \"cpu\")\n",
    "model = model.to(device)"
   ]
  },
  {
   "cell_type": "code",
   "execution_count": 7,
   "id": "f94b36db-6e32-47f3-8c7b-1a27e828c91d",
   "metadata": {
    "tags": []
   },
   "outputs": [],
   "source": [
    "def accuracy(predictions, labels):\n",
    "    pred = torch.max(predictions.data, 1)[1]\n",
    "    rights = pred.eq(labels.data.view_as(pred)).sum()\n",
    "    return rights, len(labels)"
   ]
  },
  {
   "cell_type": "code",
   "execution_count": null,
   "id": "866c92cc-02b3-4ef1-bf5f-54f856fa9da2",
   "metadata": {
    "tags": []
   },
   "outputs": [],
   "source": [
    "import matplotlib.pyplot as plt\n",
    "num_epochs = 30\n",
    "BEST_MODEL_PATH = 'best_model_classification.pth'\n",
    "criterion = nn.CrossEntropyLoss()\n",
    "best_r = 0.0\n",
    "optimizer = optim.Adam(model.parameters(), lr=0.001)\n",
    "\n",
    "train_losses = []\n",
    "val_losses = []\n",
    "train_accs = []\n",
    "val_accs = []\n",
    "\n",
    "for epoch in range(num_epochs):\n",
    "    train_rights = []\n",
    "\n",
    "    for batch_idx, (images, labels) in enumerate(train_loader):\n",
    "        images = images.to(device)\n",
    "        labels = labels.to(device)\n",
    "        model.train()\n",
    "        outputs = model(images)\n",
    "        loss = criterion(outputs, labels)\n",
    "        optimizer.zero_grad()\n",
    "        loss.backward()\n",
    "        optimizer.step()\n",
    "        right = accuracy(outputs, labels)\n",
    "        train_rights.append(right)\n",
    "\n",
    "        if batch_idx % 100 == 0:\n",
    "            model.eval()\n",
    "            val_rights = []\n",
    "\n",
    "            for (images, labels) in test_loader:\n",
    "                images = images.to(device)\n",
    "                labels = labels.to(device)\n",
    "                outputs = model(images)\n",
    "                right = accuracy(outputs, labels)\n",
    "                val_rights.append(right)\n",
    "\n",
    "\n",
    "            train_r = (sum([tup[0] for tup in train_rights]), sum([tup[1] for tup in train_rights]))\n",
    "            val_r = (sum([tup[0] for tup in val_rights]), sum([tup[1] for tup in val_rights]))\n",
    "            train_acc = 100. * train_r[0].cpu().numpy() / train_r[1]\n",
    "            val_acc = 100. * val_r[0].cpu().numpy() / val_r[1]\n",
    "\n",
    "            print('当前epoch: {} [{}/{} ({:.0f}%)]\\t损失: {:.6f}\\t训练集准确率: {:.2f}%\\t测试集正确率: {:.2f}%'.format(\n",
    "                epoch, batch_idx * train_loader.batch_size, len(train_loader.dataset),\n",
    "                100. * batch_idx / len(train_loader),\n",
    "                loss.data,\n",
    "                train_acc, val_acc))\n",
    "\n",
    "            train_losses.append(loss.item())\n",
    "            val_losses.append(criterion(outputs, labels).item())\n",
    "            train_accs.append(train_acc)\n",
    "            val_accs.append(val_acc)\n",
    "\n",
    "    if val_acc > best_r:\n",
    "        torch.save(model.state_dict(), BEST_MODEL_PATH)\n",
    "        best_r = val_acc\n",
    "        print(\"Saved best model with validation accuracy: {:.2f}%\".format(val_acc))\n",
    "\n",
    "plt.plot(train_losses, label='Train Loss')\n",
    "plt.plot(val_losses, label='Validation Loss')\n",
    "plt.legend()\n",
    "plt.show()\n",
    "\n",
    "plt.plot(train_accs, label='Train Accuracy')\n",
    "plt.plot(val_accs, label='Validation Accuracy')\n",
    "plt.legend()\n"
   ]
  },
  {
   "cell_type": "code",
   "execution_count": null,
   "id": "ec5ac3ff-8131-4836-a7b9-782c1cdb495d",
   "metadata": {},
   "outputs": [],
   "source": []
  }
 ],
 "metadata": {
  "kernelspec": {
   "display_name": "Python 3",
   "language": "python",
   "name": "python3"
  },
  "language_info": {
   "codemirror_mode": {
    "name": "ipython",
    "version": 3
   },
   "file_extension": ".py",
   "mimetype": "text/x-python",
   "name": "python",
   "nbconvert_exporter": "python",
   "pygments_lexer": "ipython3",
   "version": "3.6.13"
  }
 },
 "nbformat": 4,
 "nbformat_minor": 5
}
